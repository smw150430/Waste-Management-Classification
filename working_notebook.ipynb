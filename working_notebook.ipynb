{
 "cells": [
  {
   "cell_type": "markdown",
   "metadata": {},
   "source": [
    "# Waste Management Classification "
   ]
  },
  {
   "cell_type": "markdown",
   "metadata": {},
   "source": [
    "## Goal \n",
    "This project aims to classify images into organic and recyclable categories.  Given the prevalence of global warming and environmental negligence in the various news outlets worldwide, I have concerned myself with a subset of such things, waste management.  The aforementioned model will permit for automating a subset of the waste management process."
   ]
  },
  {
   "cell_type": "markdown",
   "metadata": {},
   "source": [
    "### Disclaimer: To run this notebook, you will probably need to utilize cloud services."
   ]
  },
  {
   "cell_type": "markdown",
   "metadata": {},
   "source": [
    "## Import Necessary Libraries"
   ]
  },
  {
   "cell_type": "code",
   "execution_count": 11,
   "metadata": {},
   "outputs": [],
   "source": [
    "from keras.applications import VGG19, inception_v3\n",
    "from keras import models, layers, optimizers, regularizers\n",
    "from keras.models import model_from_json\n",
    "from keras.preprocessing.image import ImageDataGenerator\n",
    "import matplotlib.pyplot as plt\n",
    "import numpy as np\n",
    "import pandas as pd\n",
    "import seaborn as sns\n",
    "from sklearn.metrics import confusion_matrix, classification_report\n",
    "from sklearn.model_selection import train_test_split\n",
    "import tensorflow as tf"
   ]
  },
  {
   "cell_type": "markdown",
   "metadata": {},
   "source": [
    "## Importing the Data and Preprocessing "
   ]
  },
  {
   "cell_type": "markdown",
   "metadata": {},
   "source": [
    "[Data Source](https://www.kaggle.com/techsash/waste-classification-data): contains images that are broadly labeled as organic or recyclable"
   ]
  },
  {
   "cell_type": "markdown",
   "metadata": {},
   "source": [
    "Images were brought in, scaled, set to a standard 224 by 224 size.  Given that the total dataset was prohibitive in terms of computation, the initial samples were of size 2000 from the test folder and 4000 from the train folder.  Additional images were generated that were manipulated to make the model more robust, e.g., rotating, zooming, and flipping the original images.  These provided an additional 3000 images."
   ]
  },
  {
   "cell_type": "code",
   "execution_count": 6,
   "metadata": {},
   "outputs": [
    {
     "name": "stdout",
     "output_type": "stream",
     "text": [
      "Found 2513 images belonging to 2 classes.\n",
      "Found 22564 images belonging to 2 classes.\n"
     ]
    }
   ],
   "source": [
    "data_te = ImageDataGenerator(rescale = 1./255).flow_from_directory('DATASET_2/TEST', \n",
    "                                                                   target_size = (224, 224), \n",
    "                                                                   batch_size = 2000,\n",
    "                                                                   seed = 123)\n",
    "\n",
    "data_tr = ImageDataGenerator(rescale = 1./255).flow_from_directory('DATASET_2/TRAIN', \n",
    "                                                                   target_size = (224, 224),  \n",
    "                                                                   batch_size = 4000,\n",
    "                                                                   seed = 123)"
   ]
  },
  {
   "cell_type": "code",
   "execution_count": 7,
   "metadata": {},
   "outputs": [
    {
     "name": "stdout",
     "output_type": "stream",
     "text": [
      "Found 2513 images belonging to 2 classes.\n",
      "Found 22564 images belonging to 2 classes.\n"
     ]
    }
   ],
   "source": [
    "mod_te = ImageDataGenerator(rescale = 1./255, \n",
    "                            rotation_range = 360, \n",
    "                            width_shift_range = 0.3, \n",
    "                            height_shift_range = 0.3, \n",
    "                            brightness_range = [0.2, 1.0], \n",
    "                            horizontal_flip = True, \n",
    "                            vertical_flip = True, \n",
    "                            zoom_range = [0.5, 1.5]).flow_from_directory('DATASET_2/TEST', \n",
    "                                                                   target_size = (224, 224), \n",
    "                                                                   batch_size = 1000,\n",
    "                                                                   seed = 123)\n",
    "\n",
    "mod_tr = ImageDataGenerator(rescale = 1./255, \n",
    "                            rotation_range = 360, \n",
    "                            width_shift_range = 0.3, \n",
    "                            height_shift_range = 0.3, \n",
    "                            brightness_range = [0.2, 1.0], \n",
    "                            horizontal_flip = True, \n",
    "                            vertical_flip = True, \n",
    "                            zoom_range = [0.5, 1.5]).flow_from_directory('DATASET_2/TRAIN', \n",
    "                                                                   target_size = (224, 224), \n",
    "                                                                   batch_size = 2000,\n",
    "                                                                   seed = 123)"
   ]
  },
  {
   "cell_type": "markdown",
   "metadata": {},
   "source": [
    "Here, I extracted the processed images and their associated labels and checked their dimensionality."
   ]
  },
  {
   "cell_type": "code",
   "execution_count": 8,
   "metadata": {},
   "outputs": [],
   "source": [
    "images_te, labels_te = next(data_te)\n",
    "images_tr, labels_tr = next(data_tr)"
   ]
  },
  {
   "cell_type": "code",
   "execution_count": 9,
   "metadata": {},
   "outputs": [],
   "source": [
    "images_mod_te, labels_mod_te = next(mod_te)\n",
    "images_mod_tr, labels_mod_tr = next(mod_tr)"
   ]
  },
  {
   "cell_type": "code",
   "execution_count": 32,
   "metadata": {},
   "outputs": [
    {
     "name": "stdout",
     "output_type": "stream",
     "text": [
      "(2000, 224, 224, 3)\n",
      "(4000, 224, 224, 3)\n"
     ]
    }
   ],
   "source": [
    "print(images_te.shape)\n",
    "print(images_tr.shape)"
   ]
  },
  {
   "cell_type": "code",
   "execution_count": 33,
   "metadata": {},
   "outputs": [
    {
     "name": "stdout",
     "output_type": "stream",
     "text": [
      "(1000, 224, 224, 3)\n",
      "(2000, 224, 224, 3)\n"
     ]
    }
   ],
   "source": [
    "print(images_mod_te.shape)\n",
    "print(images_mod_tr.shape)"
   ]
  },
  {
   "cell_type": "code",
   "execution_count": 34,
   "metadata": {},
   "outputs": [
    {
     "name": "stdout",
     "output_type": "stream",
     "text": [
      "(2000, 2)\n",
      "(4000, 2)\n"
     ]
    }
   ],
   "source": [
    "print(labels_te.shape)\n",
    "print(labels_tr.shape)"
   ]
  },
  {
   "cell_type": "code",
   "execution_count": 35,
   "metadata": {},
   "outputs": [
    {
     "name": "stdout",
     "output_type": "stream",
     "text": [
      "(1000, 2)\n",
      "(2000, 2)\n"
     ]
    }
   ],
   "source": [
    "print(labels_mod_te.shape)\n",
    "print(labels_mod_tr.shape)"
   ]
  },
  {
   "cell_type": "markdown",
   "metadata": {},
   "source": [
    "The images were pulled from disparate folders, so I needed to merge the data which was accomplished as follows."
   ]
  },
  {
   "cell_type": "code",
   "execution_count": 10,
   "metadata": {},
   "outputs": [],
   "source": [
    "images = np.concatenate((images_tr, images_te, images_mod_tr, images_mod_te))\n",
    "# images = np.concatenate((images_mod_tr, images_mod_te))"
   ]
  },
  {
   "cell_type": "code",
   "execution_count": 37,
   "metadata": {},
   "outputs": [
    {
     "data": {
      "text/plain": [
       "(9000, 224, 224, 3)"
      ]
     },
     "execution_count": 37,
     "metadata": {},
     "output_type": "execute_result"
    }
   ],
   "source": [
    "images.shape"
   ]
  },
  {
   "cell_type": "code",
   "execution_count": 11,
   "metadata": {},
   "outputs": [],
   "source": [
    "labels = np.concatenate((labels_tr[:,0], labels_te[:,0], labels_mod_tr[:,0], labels_mod_te[:, 0]))\n",
    "# labels = np.concatenate((labels_mod_tr[:,0], labels_mod_te[:, 0]))"
   ]
  },
  {
   "cell_type": "code",
   "execution_count": 39,
   "metadata": {},
   "outputs": [
    {
     "data": {
      "text/plain": [
       "(9000,)"
      ]
     },
     "execution_count": 39,
     "metadata": {},
     "output_type": "execute_result"
    }
   ],
   "source": [
    "labels.shape"
   ]
  },
  {
   "cell_type": "markdown",
   "metadata": {},
   "source": [
    "General inspection of the images was accomplished in the following cell.  The integers can be changed to have an idea of the types of images.  Their associated labels are printed below the image.  A label of zero is recyclable, and a label of one is organic."
   ]
  },
  {
   "cell_type": "code",
   "execution_count": 39,
   "metadata": {},
   "outputs": [
    {
     "data": {
      "image/png": "[encoded data removed]",
      "text/plain": [
       "<Figure size 432x288 with 1 Axes>"
      ]
     },
     "metadata": {
      "needs_background": "light"
     },
     "output_type": "display_data"
    },
    {
     "name": "stdout",
     "output_type": "stream",
     "text": [
      "0.0\n"
     ]
    }
   ],
   "source": [
    "plt.imshow(images[5510])\n",
    "plt.show()\n",
    "print(labels[5510])"
   ]
  },
  {
   "cell_type": "markdown",
   "metadata": {},
   "source": [
    "For modeling, I split the data into train, validation, and test sets."
   ]
  },
  {
   "cell_type": "code",
   "execution_count": 12,
   "metadata": {},
   "outputs": [],
   "source": [
    "X_model, X_test, y_model, y_test = train_test_split(images, labels, test_size = 0.2, random_state = 123)"
   ]
  },
  {
   "cell_type": "code",
   "execution_count": 13,
   "metadata": {},
   "outputs": [],
   "source": [
    "X_train, X_val, y_train, y_val = train_test_split(X_model, y_model, test_size = 0.2, random_state = 123)"
   ]
  },
  {
   "cell_type": "markdown",
   "metadata": {},
   "source": [
    "I check the sample size of each of the splits, e.g., the training set is 5760."
   ]
  },
  {
   "cell_type": "code",
   "execution_count": 11,
   "metadata": {},
   "outputs": [
    {
     "name": "stdout",
     "output_type": "stream",
     "text": [
      "5760 \n",
      "\n",
      "1440 \n",
      "\n",
      "1800 \n",
      "\n"
     ]
    }
   ],
   "source": [
    "print(len(X_train), '\\n')\n",
    "print(len(X_val), '\\n')\n",
    "print(len(X_test), '\\n')"
   ]
  },
  {
   "cell_type": "markdown",
   "metadata": {},
   "source": [
    "In classification, the balance of the classes is of particular importance, so a quick inspection was done.  For each of the split samples, the data are well-balanced with the organic class making up a little over half in all cases."
   ]
  },
  {
   "cell_type": "code",
   "execution_count": 12,
   "metadata": {},
   "outputs": [
    {
     "name": "stdout",
     "output_type": "stream",
     "text": [
      "0.5446180555555555\n",
      "0.5611111111111111\n",
      "0.5538888888888889\n"
     ]
    }
   ],
   "source": [
    "print(sum(y_train)/5760)\n",
    "print(sum(y_val)/1440)\n",
    "print(sum(y_test)/1800)"
   ]
  },
  {
   "cell_type": "markdown",
   "metadata": {},
   "source": [
    "## Building CNN Models "
   ]
  },
  {
   "cell_type": "markdown",
   "metadata": {},
   "source": [
    "Prebuilt convolutional layers were utilized from the keras library, namely VGG19 and InceptionV3.  The convolutional layers of these models were frozen so they wouldn't be affected by the training process.  This was desirable given that their models had been trained on gargantuan datasets.  Their specifications were as follows:\n",
    "\n",
    "-loss function: binary cross entropy  \n",
    "-optimizer: adaptive moment estimation  \n",
    "-performance metric: accuracy (depending on the waste processing, the desired performance metric may differ)\n",
    "-number of (dense) hidden layers: 3 (with 1024, 1024, and 512 nodes, respectively)  \n",
    "-regularization: dropout (with 0.2 probability)\n",
    "-hidden layer activation functions: rectified linear unit  \n",
    "-weights initialization: Xavier  \n",
    "-output layer activation function: sigmoid"
   ]
  },
  {
   "cell_type": "markdown",
   "metadata": {},
   "source": [
    "### VGG19 "
   ]
  },
  {
   "cell_type": "code",
   "execution_count": 13,
   "metadata": {},
   "outputs": [],
   "source": [
    "cnn_vgg_base = VGG19(weights = 'imagenet', include_top = False, input_shape = (224, 224, 3))\n",
    "model_1 = models.Sequential()\n",
    "model_1.add(cnn_vgg_base)\n",
    "model_1.add(layers.Flatten())\n",
    "model_1.add(layers.Dense(1024, activation='relu', kernel_initializer = 'glorot_uniform'))\n",
    "model_1.add(layers.Dropout(0.2, seed = 123))\n",
    "model_1.add(layers.Dense(1024, activation='relu', kernel_initializer = 'glorot_uniform'))\n",
    "model_1.add(layers.Dropout(0.2, seed = 123))\n",
    "model_1.add(layers.Dense(512, activation='relu', kernel_initializer = 'glorot_uniform'))\n",
    "model_1.add(layers.Dropout(0.2, seed = 123))\n",
    "model_1.add(layers.Dense(1, activation='sigmoid'))"
   ]
  },
  {
   "cell_type": "code",
   "execution_count": 14,
   "metadata": {},
   "outputs": [
    {
     "name": "stdout",
     "output_type": "stream",
     "text": [
      "vgg19 True\n",
      "flatten_1 True\n",
      "dense_1 True\n",
      "dropout_1 True\n",
      "dense_2 True\n",
      "dropout_2 True\n",
      "dense_3 True\n",
      "dropout_3 True\n",
      "dense_4 True\n"
     ]
    }
   ],
   "source": [
    "for layer in model_1.layers:\n",
    "    print(layer.name, layer.trainable)"
   ]
  },
  {
   "cell_type": "code",
   "execution_count": 15,
   "metadata": {},
   "outputs": [],
   "source": [
    "cnn_vgg_base.trainable = False"
   ]
  },
  {
   "cell_type": "markdown",
   "metadata": {},
   "source": [
    "I rerun the layers.trainable to make sure that the prebuilt convolutional base is not trainable."
   ]
  },
  {
   "cell_type": "code",
   "execution_count": 16,
   "metadata": {},
   "outputs": [
    {
     "name": "stdout",
     "output_type": "stream",
     "text": [
      "vgg19 False\n",
      "flatten_1 True\n",
      "dense_1 True\n",
      "dropout_1 True\n",
      "dense_2 True\n",
      "dropout_2 True\n",
      "dense_3 True\n",
      "dropout_3 True\n",
      "dense_4 True\n"
     ]
    }
   ],
   "source": [
    "for layer in model_1.layers:\n",
    "    print(layer.name, layer.trainable)"
   ]
  },
  {
   "cell_type": "code",
   "execution_count": 17,
   "metadata": {},
   "outputs": [],
   "source": [
    "model_1.compile(loss = 'binary_crossentropy', optimizer = optimizers.Adam(), metrics = ['acc'])"
   ]
  },
  {
   "cell_type": "code",
   "execution_count": 19,
   "metadata": {},
   "outputs": [
    {
     "name": "stdout",
     "output_type": "stream",
     "text": [
      "Train on 5760 samples, validate on 1440 samples\n",
      "Epoch 1/15\n",
      "5760/5760 [==============================] - 1085s 188ms/step - loss: 0.2277 - acc: 0.9016 - val_loss: 0.3418 - val_acc: 0.8618\n",
      "Epoch 2/15\n",
      "5760/5760 [==============================] - 1079s 187ms/step - loss: 0.1713 - acc: 0.9293 - val_loss: 0.4009 - val_acc: 0.8535\n",
      "Epoch 3/15\n",
      "5760/5760 [==============================] - 1077s 187ms/step - loss: 0.1451 - acc: 0.9394 - val_loss: 0.4932 - val_acc: 0.8493\n",
      "Epoch 4/15\n",
      "5760/5760 [==============================] - 1078s 187ms/step - loss: 0.1533 - acc: 0.9351 - val_loss: 0.4828 - val_acc: 0.8590\n",
      "Epoch 5/15\n",
      "5760/5760 [==============================] - 1077s 187ms/step - loss: 0.0946 - acc: 0.9623 - val_loss: 0.4490 - val_acc: 0.8590\n",
      "Epoch 6/15\n",
      "5760/5760 [==============================] - 1079s 187ms/step - loss: 0.1037 - acc: 0.9563 - val_loss: 0.6065 - val_acc: 0.8611\n",
      "Epoch 7/15\n",
      "5760/5760 [==============================] - 1082s 188ms/step - loss: 0.0787 - acc: 0.9658 - val_loss: 0.6512 - val_acc: 0.8646\n",
      "Epoch 8/15\n",
      "5760/5760 [==============================] - 1089s 189ms/step - loss: 0.0675 - acc: 0.9715 - val_loss: 0.6816 - val_acc: 0.8618\n",
      "Epoch 9/15\n",
      "5760/5760 [==============================] - 1087s 189ms/step - loss: 0.0722 - acc: 0.9696 - val_loss: 0.5660 - val_acc: 0.8667\n",
      "Epoch 10/15\n",
      "5760/5760 [==============================] - 1080s 187ms/step - loss: 0.0741 - acc: 0.9686 - val_loss: 0.8249 - val_acc: 0.8417\n",
      "Epoch 11/15\n",
      "5760/5760 [==============================] - 1083s 188ms/step - loss: 0.0689 - acc: 0.9740 - val_loss: 0.6487 - val_acc: 0.8458\n",
      "Epoch 12/15\n",
      "5760/5760 [==============================] - 1078s 187ms/step - loss: 0.0618 - acc: 0.9760 - val_loss: 0.6065 - val_acc: 0.8528\n",
      "Epoch 13/15\n",
      "5760/5760 [==============================] - 1080s 187ms/step - loss: 0.0721 - acc: 0.9688 - val_loss: 0.5141 - val_acc: 0.8618\n",
      "Epoch 14/15\n",
      "5760/5760 [==============================] - 1076s 187ms/step - loss: 0.0658 - acc: 0.9743 - val_loss: 0.5835 - val_acc: 0.8479\n",
      "Epoch 15/15\n",
      "5760/5760 [==============================] - 1082s 188ms/step - loss: 0.0714 - acc: 0.9717 - val_loss: 0.6767 - val_acc: 0.8583\n"
     ]
    },
    {
     "data": {
      "text/plain": [
       "<keras.callbacks.callbacks.History at 0x7f145045bef0>"
      ]
     },
     "execution_count": 19,
     "metadata": {},
     "output_type": "execute_result"
    }
   ],
   "source": [
    "model_1.fit(X_train, \n",
    "            y_train, \n",
    "            batch_size = 96, \n",
    "            epochs = 15, \n",
    "            validation_data = (X_val, y_val) )"
   ]
  },
  {
   "cell_type": "code",
   "execution_count": 20,
   "metadata": {},
   "outputs": [],
   "source": [
    "model_1.save('vgg19.h5')\n",
    "# models.load_model('vgg19.h5')"
   ]
  },
  {
   "cell_type": "code",
   "execution_count": 21,
   "metadata": {},
   "outputs": [
    {
     "name": "stdout",
     "output_type": "stream",
     "text": [
      "1800/1800 [==============================] - 283s 157ms/step\n"
     ]
    },
    {
     "data": {
      "text/plain": [
       "[0.6911880603763793, 0.875]"
      ]
     },
     "execution_count": 21,
     "metadata": {},
     "output_type": "execute_result"
    }
   ],
   "source": [
    "model_1.evaluate(X_test, y_test)"
   ]
  },
  {
   "cell_type": "code",
   "execution_count": 22,
   "metadata": {},
   "outputs": [],
   "source": [
    "# mod_1_pred = np.around(model_1.predict(X_test))\n",
    "mod_1_test_pred = model_1.predict_classes(X_test)"
   ]
  },
  {
   "cell_type": "code",
   "execution_count": 23,
   "metadata": {},
   "outputs": [
    {
     "name": "stdout",
     "output_type": "stream",
     "text": [
      "[[713  90]\n",
      " [135 862]]\n",
      "             precision    recall  f1-score   support\n",
      "\n",
      "        0.0       0.84      0.89      0.86       803\n",
      "        1.0       0.91      0.86      0.88       997\n",
      "\n",
      "avg / total       0.88      0.88      0.88      1800\n",
      "\n"
     ]
    }
   ],
   "source": [
    "print(confusion_matrix(y_test, mod_1_test_pred))\n",
    "print(classification_report(y_test, mod_1_test_pred))"
   ]
  },
  {
   "cell_type": "code",
   "execution_count": 41,
   "metadata": {},
   "outputs": [
    {
     "data": {
      "image/png": "[encoded data removed]",
      "text/plain": [
       "<Figure size 576x576 with 2 Axes>"
      ]
     },
     "metadata": {
      "needs_background": "light"
     },
     "output_type": "display_data"
    },
    {
     "data": {
      "text/plain": [
       "<Figure size 432x288 with 0 Axes>"
      ]
     },
     "metadata": {},
     "output_type": "display_data"
    }
   ],
   "source": [
    "# yellowbrick doesn't work with keras; change class labels\n",
    "con_mat_1 = tf.math.confusion_matrix(labels=y_test, predictions=mod_1_test_pred).numpy()\n",
    "con_mat_1_df = pd.DataFrame(con_mat_1,\n",
    "                     index = ['Recyclable', 'Organic'], \n",
    "                     columns = ['Recyclable', 'Organic'])\n",
    "\n",
    "figure = plt.figure(figsize=(8, 8))\n",
    "sns.heatmap(con_mat_1_df, annot=True,cmap=plt.cm.Blues)\n",
    "plt.tight_layout()\n",
    "plt.ylabel('True label')\n",
    "plt.xlabel('Predicted label')\n",
    "plt.title('VGG19 Confusion Matrix', fontsize = 20)\n",
    "plt.show()\n",
    "plt.savefig('vgg19_conf_mat.png')"
   ]
  },
  {
   "cell_type": "markdown",
   "metadata": {},
   "source": [
    "### InceptionV3 "
   ]
  },
  {
   "cell_type": "code",
   "execution_count": 2,
   "metadata": {},
   "outputs": [
    {
     "name": "stdout",
     "output_type": "stream",
     "text": [
      "Downloading data from https://github.com/fchollet/deep-learning-models/releases/download/v0.5/inception_v3_weights_tf_dim_ordering_tf_kernels_notop.h5\n",
      "87916544/87910968 [==============================] - 2s 0us/step\n"
     ]
    }
   ],
   "source": [
    "cnn_incv3_base = inception_v3.InceptionV3(weights = 'imagenet', include_top = False, input_shape = (224, 224, 3))\n",
    "model_2 = models.Sequential()\n",
    "model_2.add(cnn_incv3_base)\n",
    "model_2.add(layers.Flatten())\n",
    "model_2.add(layers.Dropout(0.2, seed = 123))\n",
    "model_2.add(layers.Dense(1024, activation='relu', kernel_initializer = 'glorot_uniform'))\n",
    "model_2.add(layers.Dropout(0.2, seed = 123))\n",
    "model_2.add(layers.Dense(512, activation='relu', kernel_initializer = 'glorot_uniform'))\n",
    "model_2.add(layers.Dropout(0.2, seed = 123))\n",
    "model_2.add(layers.Dense(1, activation='sigmoid'))"
   ]
  },
  {
   "cell_type": "code",
   "execution_count": 3,
   "metadata": {},
   "outputs": [],
   "source": [
    "cnn_incv3_base.trainable = False"
   ]
  },
  {
   "cell_type": "code",
   "execution_count": 4,
   "metadata": {},
   "outputs": [],
   "source": [
    "model_2.compile(loss = 'binary_crossentropy', optimizer = optimizers.Adam(), metrics = ['acc'])"
   ]
  },
  {
   "cell_type": "code",
   "execution_count": 14,
   "metadata": {},
   "outputs": [
    {
     "name": "stdout",
     "output_type": "stream",
     "text": [
      "Train on 5760 samples, validate on 1440 samples\n",
      "Epoch 1/15\n",
      "5760/5760 [==============================] - 543s 94ms/step - loss: 1.5980 - acc: 0.7358 - val_loss: 0.2844 - val_acc: 0.8882\n",
      "Epoch 2/15\n",
      "5760/5760 [==============================] - 512s 89ms/step - loss: 0.3066 - acc: 0.8795 - val_loss: 0.4284 - val_acc: 0.8590\n",
      "Epoch 3/15\n",
      "5760/5760 [==============================] - 521s 90ms/step - loss: 0.2356 - acc: 0.9080 - val_loss: 0.3042 - val_acc: 0.8924\n",
      "Epoch 4/15\n",
      "5760/5760 [==============================] - 515s 89ms/step - loss: 0.1845 - acc: 0.9278 - val_loss: 0.3076 - val_acc: 0.9035\n",
      "Epoch 5/15\n",
      "5760/5760 [==============================] - 513s 89ms/step - loss: 0.1462 - acc: 0.9405 - val_loss: 0.3876 - val_acc: 0.9118\n",
      "Epoch 6/15\n",
      "5760/5760 [==============================] - 511s 89ms/step - loss: 0.1529 - acc: 0.9415 - val_loss: 0.3415 - val_acc: 0.8951\n",
      "Epoch 7/15\n",
      "5760/5760 [==============================] - 513s 89ms/step - loss: 0.1063 - acc: 0.9608 - val_loss: 0.4692 - val_acc: 0.8736\n",
      "Epoch 8/15\n",
      "5760/5760 [==============================] - 514s 89ms/step - loss: 0.0926 - acc: 0.9668 - val_loss: 0.3713 - val_acc: 0.8931\n",
      "Epoch 9/15\n",
      "5760/5760 [==============================] - 513s 89ms/step - loss: 0.0744 - acc: 0.9701 - val_loss: 0.5767 - val_acc: 0.8687\n",
      "Epoch 10/15\n",
      "5760/5760 [==============================] - 513s 89ms/step - loss: 0.0636 - acc: 0.9771 - val_loss: 0.4380 - val_acc: 0.8903\n",
      "Epoch 11/15\n",
      "5760/5760 [==============================] - 515s 89ms/step - loss: 0.0624 - acc: 0.9778 - val_loss: 0.4449 - val_acc: 0.8944\n",
      "Epoch 12/15\n",
      "5760/5760 [==============================] - 514s 89ms/step - loss: 0.0869 - acc: 0.9651 - val_loss: 0.4021 - val_acc: 0.8910\n",
      "Epoch 13/15\n",
      "5760/5760 [==============================] - 512s 89ms/step - loss: 0.1039 - acc: 0.9620 - val_loss: 0.5436 - val_acc: 0.8792\n",
      "Epoch 14/15\n",
      "5760/5760 [==============================] - 514s 89ms/step - loss: 0.0721 - acc: 0.9722 - val_loss: 0.5528 - val_acc: 0.9021\n",
      "Epoch 15/15\n",
      "5760/5760 [==============================] - 515s 89ms/step - loss: 0.0746 - acc: 0.9727 - val_loss: 1.1115 - val_acc: 0.8410\n"
     ]
    },
    {
     "data": {
      "text/plain": [
       "<keras.callbacks.callbacks.History at 0x7f59f1e72eb8>"
      ]
     },
     "execution_count": 14,
     "metadata": {},
     "output_type": "execute_result"
    }
   ],
   "source": [
    "model_2.fit(X_train, \n",
    "            y_train, \n",
    "            batch_size = 96, \n",
    "            epochs = 15, \n",
    "            validation_data = (X_val, y_val) )"
   ]
  },
  {
   "cell_type": "code",
   "execution_count": 15,
   "metadata": {},
   "outputs": [],
   "source": [
    "model_2.save('incv3.h5')\n",
    "# models.load_model('incv3.h5')"
   ]
  },
  {
   "cell_type": "code",
   "execution_count": 16,
   "metadata": {},
   "outputs": [
    {
     "name": "stdout",
     "output_type": "stream",
     "text": [
      "1800/1800 [==============================] - 143s 80ms/step\n"
     ]
    },
    {
     "data": {
      "text/plain": [
       "[0.9880882908238305, 0.847777783870697]"
      ]
     },
     "execution_count": 16,
     "metadata": {},
     "output_type": "execute_result"
    }
   ],
   "source": [
    "model_2.evaluate(X_test, y_test)"
   ]
  },
  {
   "cell_type": "code",
   "execution_count": 18,
   "metadata": {},
   "outputs": [],
   "source": [
    "# mod_2_pred = np.around(model_2.predict(X_test))\n",
    "mod_2_test_pred = model_2.predict_classes(X_test)"
   ]
  },
  {
   "cell_type": "code",
   "execution_count": 21,
   "metadata": {},
   "outputs": [
    {
     "name": "stdout",
     "output_type": "stream",
     "text": [
      "[[548 255]\n",
      " [ 19 978]]\n",
      "             precision    recall  f1-score   support\n",
      "\n",
      "        0.0       0.97      0.68      0.80       803\n",
      "        1.0       0.79      0.98      0.88       997\n",
      "\n",
      "avg / total       0.87      0.85      0.84      1800\n",
      "\n"
     ]
    }
   ],
   "source": [
    "print(confusion_matrix(y_test, mod_2_test_pred))\n",
    "print(classification_report(y_test, mod_2_test_pred))"
   ]
  },
  {
   "cell_type": "code",
   "execution_count": 22,
   "metadata": {},
   "outputs": [
    {
     "data": {
      "image/png": "[encoded data removed]",
      "text/plain": [
       "<Figure size 576x576 with 2 Axes>"
      ]
     },
     "metadata": {
      "needs_background": "light"
     },
     "output_type": "display_data"
    },
    {
     "data": {
      "text/plain": [
       "<Figure size 432x288 with 0 Axes>"
      ]
     },
     "metadata": {},
     "output_type": "display_data"
    }
   ],
   "source": [
    "con_mat_2 = tf.math.confusion_matrix(labels=y_test, predictions=mod_2_test_pred).numpy()\n",
    "con_mat_2_df = pd.DataFrame(con_mat_2,\n",
    "                     index = ['Recyclable', 'Organic'], \n",
    "                     columns = ['Recyclable', 'Organic'])\n",
    "\n",
    "figure = plt.figure(figsize=(8, 8))\n",
    "sns.heatmap(con_mat_2_df, annot=True,cmap=plt.cm.Blues)\n",
    "plt.tight_layout()\n",
    "plt.ylabel('True label')\n",
    "plt.xlabel('Predicted label')\n",
    "plt.title('InceptionV3 Confusion Matrix', fontsize = 20)\n",
    "plt.show()\n",
    "plt.savefig('incv3_conf_mat.png')"
   ]
  },
  {
   "cell_type": "markdown",
   "metadata": {},
   "source": [
    "## Findings and Future Work\n",
    "The VGG19 based model performed best on the test set of data with an accuracy of 87.5 percent -- a testament to the feasibility of employing such methods for the purposes set forth in the goal statement.  Better models could be built by tuning the hyperparameters and using a larger sample."
   ]
  },
  {
   "cell_type": "markdown",
   "metadata": {},
   "source": [
    "## Appendix: Saving Architecture and Weights"
   ]
  },
  {
   "cell_type": "markdown",
   "metadata": {},
   "source": [
    "The following code can be run in order to store the models.  The json files store the architecture.  The full model and weights were too large to store on GitHub."
   ]
  },
  {
   "cell_type": "markdown",
   "metadata": {},
   "source": [
    "### VGG19 Model"
   ]
  },
  {
   "cell_type": "code",
   "execution_count": 8,
   "metadata": {},
   "outputs": [
    {
     "name": "stderr",
     "output_type": "stream",
     "text": [
      "/usr/local/lib/python3.5/dist-packages/keras/engine/saving.py:384: UserWarning: Error in loading the saved optimizer state. As a result, your model is starting with a freshly initialized optimizer.\n",
      "  warnings.warn('Error in loading the saved optimizer '\n"
     ]
    }
   ],
   "source": [
    "vgg19 = models.load_model('vgg19.h5')\n",
    "vgg19_json = vgg19.to_json()\n",
    "vgg19.save_weights('vgg19_weights.h5')"
   ]
  },
  {
   "cell_type": "code",
   "execution_count": 9,
   "metadata": {},
   "outputs": [],
   "source": [
    "with open(\"vgg19.json\", \"w\") as json_file:\n",
    "    json_file.write(vgg19_json)"
   ]
  },
  {
   "cell_type": "code",
   "execution_count": 12,
   "metadata": {},
   "outputs": [],
   "source": [
    "# load json and create model\n",
    "json_file = open('vgg19.json', 'r')\n",
    "loaded_model_json = json_file.read()\n",
    "json_file.close()\n",
    "loaded_model = model_from_json(loaded_model_json)\n",
    "# load weights into new model\n",
    "loaded_model.load_weights(\"vgg19_weights.h5\")"
   ]
  },
  {
   "cell_type": "markdown",
   "metadata": {},
   "source": [
    "### InceptionV3 Model"
   ]
  },
  {
   "cell_type": "code",
   "execution_count": 16,
   "metadata": {},
   "outputs": [
    {
     "name": "stderr",
     "output_type": "stream",
     "text": [
      "/usr/local/lib/python3.5/dist-packages/keras/engine/saving.py:384: UserWarning: Error in loading the saved optimizer state. As a result, your model is starting with a freshly initialized optimizer.\n",
      "  warnings.warn('Error in loading the saved optimizer '\n"
     ]
    }
   ],
   "source": [
    "incv3 = models.load_model('incv3.h5')\n",
    "incv3_json = incv3.to_json()\n",
    "incv3.save_weights('incv3_weights.h5')"
   ]
  },
  {
   "cell_type": "code",
   "execution_count": 17,
   "metadata": {},
   "outputs": [],
   "source": [
    "with open(\"incv3.json\", \"w\") as json_file:\n",
    "    json_file.write(incv3_json)"
   ]
  },
  {
   "cell_type": "code",
   "execution_count": 18,
   "metadata": {},
   "outputs": [],
   "source": [
    "# load json and create model\n",
    "json_file = open('incv3.json', 'r')\n",
    "loaded_model_json = json_file.read()\n",
    "json_file.close()\n",
    "loaded_model = model_from_json(loaded_model_json)\n",
    "# load weights into new model\n",
    "loaded_model.load_weights(\"incv3_weights.h5\")"
   ]
  }
 ],
 "metadata": {
  "kernelspec": {
   "display_name": "Python 3",
   "language": "python",
   "name": "python3"
  },
  "language_info": {
   "codemirror_mode": {
    "name": "ipython",
    "version": 3
   },
   "file_extension": ".py",
   "mimetype": "text/x-python",
   "name": "python",
   "nbconvert_exporter": "python",
   "pygments_lexer": "ipython3",
   "version": "3.6.9"
  }
 },
 "nbformat": 4,
 "nbformat_minor": 4
}
