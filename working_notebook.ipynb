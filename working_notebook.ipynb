{
 "cells": [
  {
   "cell_type": "code",
   "execution_count": 41,
   "metadata": {},
   "outputs": [],
   "source": [
    "from keras.applications import VGG19\n",
    "from keras.preprocessing.image import ImageDataGenerator\n",
    "import numpy as np\n",
    "from sklearn.model_selection import train_test_split"
   ]
  },
  {
   "cell_type": "code",
   "execution_count": 31,
   "metadata": {},
   "outputs": [
    {
     "name": "stdout",
     "output_type": "stream",
     "text": [
      "Found 2513 images belonging to 2 classes.\n",
      "Found 22564 images belonging to 2 classes.\n"
     ]
    }
   ],
   "source": [
    "data_te = ImageDataGenerator(rescale = 1./255).flow_from_directory('DATASET_2/TEST', \n",
    "                                                                   target_size = (224, 224), \n",
    "                                                                   batch_size = 2513,\n",
    "                                                                   seed = 123)\n",
    "\n",
    "data_tr = ImageDataGenerator(rescale = 1./255).flow_from_directory('DATASET_2/TRAIN', \n",
    "                                                                   target_size = (224, 224),  \n",
    "                                                                   batch_size = 22564,\n",
    "                                                                   seed = 123)"
   ]
  },
  {
   "cell_type": "code",
   "execution_count": 32,
   "metadata": {},
   "outputs": [],
   "source": [
    "images_te, labels_te = next(data_te)\n",
    "images_tr, labels_tr = next(data_tr)"
   ]
  },
  {
   "cell_type": "code",
   "execution_count": 33,
   "metadata": {},
   "outputs": [
    {
     "name": "stdout",
     "output_type": "stream",
     "text": [
      "(2513, 224, 224, 3)\n",
      "(22564, 224, 224, 3)\n"
     ]
    }
   ],
   "source": [
    "print(images_te.shape)\n",
    "print(images_tr.shape)"
   ]
  },
  {
   "cell_type": "code",
   "execution_count": 35,
   "metadata": {},
   "outputs": [
    {
     "name": "stdout",
     "output_type": "stream",
     "text": [
      "(2513, 2)\n",
      "(22564, 2)\n"
     ]
    }
   ],
   "source": [
    "print(labels_te.shape)\n",
    "print(labels_tr.shape)"
   ]
  },
  {
   "cell_type": "code",
   "execution_count": 36,
   "metadata": {},
   "outputs": [
    {
     "data": {
      "text/plain": [
       "(25077, 224, 224, 3)"
      ]
     },
     "execution_count": 36,
     "metadata": {},
     "output_type": "execute_result"
    }
   ],
   "source": [
    "images = np.concatenate((images_tr, images_te))\n",
    "images.shape"
   ]
  },
  {
   "cell_type": "code",
   "execution_count": 39,
   "metadata": {},
   "outputs": [
    {
     "data": {
      "text/plain": [
       "(25077,)"
      ]
     },
     "execution_count": 39,
     "metadata": {},
     "output_type": "execute_result"
    }
   ],
   "source": [
    "labels = np.concatenate((labels_tr[:,0], labels_te[:,0]))\n",
    "labels.shape"
   ]
  },
  {
   "cell_type": "code",
   "execution_count": 40,
   "metadata": {},
   "outputs": [],
   "source": [
    "X_model, X_test, y_model, y_test = train_test_split(images, labels, test_size = 0.3, random_state = 123)\n",
    "X_train, X_val, y_train, y_val = train_test_split(X_model, y_model, test_size = 0.3, random_state = 123)"
   ]
  },
  {
   "cell_type": "code",
   "execution_count": null,
   "metadata": {},
   "outputs": [],
   "source": []
  }
 ],
 "metadata": {
  "kernelspec": {
   "display_name": "Python 3",
   "language": "python",
   "name": "python3"
  },
  "language_info": {
   "codemirror_mode": {
    "name": "ipython",
    "version": 3
   },
   "file_extension": ".py",
   "mimetype": "text/x-python",
   "name": "python",
   "nbconvert_exporter": "python",
   "pygments_lexer": "ipython3",
   "version": "3.6.9"
  }
 },
 "nbformat": 4,
 "nbformat_minor": 2
}
